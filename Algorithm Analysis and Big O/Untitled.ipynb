{
 "cells": [
  {
   "cell_type": "code",
   "execution_count": 1,
   "metadata": {
    "collapsed": true
   },
   "outputs": [],
   "source": [
    "import pep8"
   ]
  },
  {
   "cell_type": "code",
   "execution_count": 2,
   "metadata": {},
   "outputs": [
    {
     "ename": "TypeError",
     "evalue": "blank_lines() missing 7 required positional arguments: 'logical_line', 'blank_lines', 'indent_level', 'line_number', 'blank_before', 'previous_logical', and 'previous_indent_level'",
     "output_type": "error",
     "traceback": [
      "\u001b[1;31m---------------------------------------------------------------------------\u001b[0m",
      "\u001b[1;31mTypeError\u001b[0m                                 Traceback (most recent call last)",
      "\u001b[1;32m<ipython-input-2-0ee75bad164e>\u001b[0m in \u001b[0;36m<module>\u001b[1;34m()\u001b[0m\n\u001b[1;32m----> 1\u001b[1;33m \u001b[0mpep8\u001b[0m\u001b[1;33m.\u001b[0m\u001b[0mblank_lines\u001b[0m\u001b[1;33m(\u001b[0m\u001b[1;33m)\u001b[0m\u001b[1;33m\u001b[0m\u001b[0m\n\u001b[0m",
      "\u001b[1;31mTypeError\u001b[0m: blank_lines() missing 7 required positional arguments: 'logical_line', 'blank_lines', 'indent_level', 'line_number', 'blank_before', 'previous_logical', and 'previous_indent_level'"
     ]
    }
   ],
   "source": [
    "pep8.blank_lines()"
   ]
  },
  {
   "cell_type": "code",
   "execution_count": 3,
   "metadata": {
    "collapsed": true
   },
   "outputs": [],
   "source": [
    "import unittest\n",
    "import pep8\n",
    "\n",
    "\n",
    "class TestCodeFormat(unittest.TestCase):\n",
    "\n",
    "    def test_pep8_conformance(self):\n",
    "        \"\"\"Test that we conform to PEP8.\"\"\"\n",
    "        pep8style = pep8.StyleGuide(quiet=True)\n",
    "        result = pep8style.check_files(['file1.py', 'file2.py'])\n",
    "        self.assertEqual(result.total_errors, 0,\n",
    "                         \"Found code style errors (and warnings).\")"
   ]
  },
  {
   "cell_type": "code",
   "execution_count": 5,
   "metadata": {},
   "outputs": [],
   "source": [
    "string =\"My ofsdbjk pdf\"\n",
    "dic = {'fsd':'fdg' }"
   ]
  },
  {
   "cell_type": "code",
   "execution_count": null,
   "metadata": {
    "collapsed": true
   },
   "outputs": [],
   "source": []
  }
 ],
 "metadata": {
  "kernelspec": {
   "display_name": "Python 3",
   "language": "python",
   "name": "python3"
  },
  "language_info": {
   "codemirror_mode": {
    "name": "ipython",
    "version": 3
   },
   "file_extension": ".py",
   "mimetype": "text/x-python",
   "name": "python",
   "nbconvert_exporter": "python",
   "pygments_lexer": "ipython3",
   "version": "3.6.1"
  }
 },
 "nbformat": 4,
 "nbformat_minor": 2
}
